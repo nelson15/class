{
 "cells": [
  {
   "cell_type": "markdown",
   "metadata": {},
   "source": [
    "# Homework 2: Due 2017-10-18 (Wednesday)\n",
    "\n",
    "* Implement an explicit Runge-Kutta integrator that takes an initial time step $h_0$ and an error tolerance $\\epsilon$.\n",
    "* You can use the Bogacki-Shampine method or any other method with an embedded error estimate.\n",
    "* A step should be rejected if the local truncation error exceeds the tolerance.\n",
    "* Test your method on the nonlinear equation\n",
    "$$ \\begin{bmatrix} \\dot u_0 \\\\ \\dot u_1 \\end{bmatrix} = \\begin{bmatrix} u_1 \\\\ k (1-u_0^2) u_1 - u_0 \\end{bmatrix} $$\n",
    "for $k=2$, $k=5$, and $k=20$.\n",
    "* Make a work-precision diagram for your adaptive method and for constant step sizes.\n",
    "* State your conclusions or ideas (in a README, or Jupyter notebook) about appropriate (efficient, accurate, reliable) methods for this type of problem."
   ]
  },
  {
   "cell_type": "markdown",
   "metadata": {},
   "source": [
    "First we define our RK solver and our adaptive butcher table. We will use the Bogacki–Shampine method for our adaptivity. The solver is adapted from the one used in class."
   ]
  },
  {
   "cell_type": "code",
   "execution_count": 5,
   "metadata": {},
   "outputs": [],
   "source": [
    "def rk_butcher_bs3():\n",
    "    A = numpy.array([[0, 0, 0, 0],\n",
    "                     [1/2, 0, 0, 0],\n",
    "                     [0, 3/4, 0, 0],\n",
    "                     [2/9, 1/3, 4/9, 0]])\n",
    "    b = numpy.array([[2/9, 1/3, 4/9, 0],\n",
    "                     [7/24, 1/4, 1/3, 1/8]])\n",
    "    return A, b\n",
    "\n",
    "def ode_rkexplicit_adaptive(f, u0, p, butcher=None, tol = 1e-8, tfinal=1, h=.1):\n",
    "    if butcher is None:\n",
    "        A, b = rk_butcher_bs3()\n",
    "    else:\n",
    "        A, b = butcher\n",
    "    c = numpy.sum(A, axis=1) #butcher table C column\n",
    "    s = len(c)    #number of steps in the RK method\n",
    "    u = u0.copy() #intitial condition\n",
    "    t = 0 #intitial time\n",
    "    hist = [(t,u0)] #history of solution\n",
    "    h_hist = [(t,h)] #history of time steps\n",
    "    redoStep = 0 #flag to redo the timestep if its error is too high\n",
    "    while t < tfinal: #loop over time\n",
    "        if tfinal - t < 1.01*h: #if the current time step is real close to finishing off the sim. just finish it off\n",
    "            h = tfinal - t\n",
    "            tnext = tfinal\n",
    "        elif  not redoStep:\n",
    "            tnext = t + h\n",
    "        h = min(h, tfinal - t)\n",
    "        fY = numpy.zeros((len(u0), s))\n",
    "        for i in range(s):\n",
    "            Yi = u.copy()\n",
    "            for j in range(i):\n",
    "                Yi += h * A[i,j] * fY[:,j]\n",
    "            fY[:,i] = f(t + h*c[i], Yi)\n",
    "        eloc = h * fY.dot(b[0,:]-b[1,:])\n",
    "        if eloc < tol:\n",
    "            u += h * fY.dot(b[0,:])\n",
    "            t = tnext\n",
    "            redoStep = 0\n",
    "        else:\n",
    "            h = 0.9 * h * (tol / eloc)**(1/p)\n",
    "            redoStep = 1;\n",
    "        h_hist.append((t, h))\n",
    "        hist.append((t, u.copy()))\n",
    "    return hist, h_hist\n",
    "\n"
   ]
  },
  {
   "cell_type": "markdown",
   "metadata": {},
   "source": [
    "Next we will define our problem parameters here:"
   ]
  },
  {
   "cell_type": "code",
   "execution_count": 10,
   "metadata": {},
   "outputs": [],
   "source": [
    "class ftestNonlinear:\n",
    "    def __init__(self, k=5):\n",
    "        self.k = k\n",
    "    def __repr__(self):\n",
    "        return 'fcos(k={:d})'.format(self.k)\n",
    "    def f(self, u):\n",
    "        return [ u[1], self.k*(1-u[0]**2)*u[1]-u[0] ]\n",
    "\n",
    "tests = [ftestNonlinear(2), ftestNonlinear(5), ftestNonlinear(20)]\n"
   ]
  },
  {
   "cell_type": "code",
   "execution_count": null,
   "metadata": {
    "collapsed": true
   },
   "outputs": [],
   "source": []
  }
 ],
 "metadata": {
  "kernelspec": {
   "display_name": "Python 3",
   "language": "python",
   "name": "python3"
  },
  "language_info": {
   "codemirror_mode": {
    "name": "ipython",
    "version": 3
   },
   "file_extension": ".py",
   "mimetype": "text/x-python",
   "name": "python",
   "nbconvert_exporter": "python",
   "pygments_lexer": "ipython3",
   "version": "3.6.1"
  }
 },
 "nbformat": 4,
 "nbformat_minor": 2
}
