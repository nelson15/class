{
 "cells": [
  {
   "cell_type": "markdown",
   "metadata": {},
   "source": [
    "# Homework 1\n",
    "## Corey Nelson\n",
    "### Due: 25-Sep-2017\n",
    "\n",
    "Use a Chebyshev method to solve the second order ordinary differential equation\n",
    "\n",
    "$$ u''(t) + a u'(t) + b u(t) = f(t) $$\n",
    "\n",
    "from $t=0$ to $t=1$ with initial conditions $u(0) = 1$ and $u'(0) = 0$.\n",
    "\n",
    "1. Do a grid convergence study to test the accuracy of your method.\n",
    "* Setting $f(x)=0$, experiment with the values $a$ and $b$ to identify two regimes with qualitatively different dynamics.\n"
   ]
  },
  {
   "cell_type": "markdown",
   "metadata": {},
   "source": [
    "Let's try solving this by transforming the 2nd order ODE into a system of 1st order ODEs via the change of variables:\n",
    "$u'(t) = v(t)$.\n",
    "\n",
    "$$\n",
    "v'(t) + av(t) + bu(t) = f(t)\\\\\n",
    "u'(t) - v(t) = 0\n",
    "$$\n",
    "with the boundary conditions $u(0) = 1$ and $v(0) = 0$.\n",
    "\n",
    "So now we need to solve a system of 1st order equations. We can modify the Chebyshev collocation technique from class to do this. \n",
    "\n",
    "In class, we interpolated via $T u = f$ where $T$ is the Chebyshev interpolation matrix, and we solved a laplacian via $-L u = f$ where $L$ is the second derivative interpolation matrix.\n",
    "\n",
    "If we call the first derivative interpolation matrix $K$, then we want to solve the system:\n",
    "\n",
    "$$ \\begin{bmatrix}\n",
    "     b T & K + a T\\\\\n",
    "    K & -T \\end{bmatrix}\n",
    "    \\begin{bmatrix} u \\\\ v \\end{bmatrix} \n",
    "    = \\begin{bmatrix} f \\\\ 0 \\end{bmatrix} .\n",
    "$$\n",
    "\n",
    "\n",
    "This gives us an obvious way to apply the two boundary conditions at $t = 0$ by simply replacing the first line of of each submatrix with the corresponding boundary condition.\n",
    "    "
   ]
  },
  {
   "cell_type": "code",
   "execution_count": 88,
   "metadata": {
    "collapsed": true
   },
   "outputs": [],
   "source": [
    "#SETUP. ALL FROM CLASS NOTES\n",
    "%matplotlib inline\n",
    "import numpy\n",
    "from matplotlib import pyplot\n",
    "# from class notes\n",
    "def cosspace(a, b, n=50):\n",
    "    return (a + b)/2 + (b - a)/2 * (numpy.cos(numpy.linspace(-numpy.pi, 0, n)))\n",
    "\n",
    "def vander_chebyshev(x, n=None):\n",
    "    if n is None:\n",
    "        n = len(x)\n",
    "    T = numpy.ones((len(x), n))\n",
    "    if n > 1:\n",
    "        T[:,1] = x\n",
    "    for k in range(2,n):\n",
    "        T[:,k] = 2 * x * T[:,k-1] - T[:,k-2]\n",
    "    return T\n",
    "\n",
    "def chebeval(z, n=None):\n",
    "    \"\"\"Build matrices to evaluate the n-term Chebyshev expansion and its derivatives at point(s) z\"\"\"\n",
    "    z = numpy.array(z, ndmin=1)\n",
    "    if n is None:\n",
    "        n = len(z)\n",
    "    Tz = vander_chebyshev(z, n)\n",
    "    dTz = numpy.zeros_like(Tz)\n",
    "    dTz[:,1] = 1\n",
    "    dTz[:,2] = 4*z\n",
    "    ddTz = numpy.zeros_like(Tz)\n",
    "    ddTz[:,2] = 4\n",
    "    for n in range(3,n):\n",
    "        dTz[:,n]  = n * (2*Tz[:,n-1] + dTz[:,n-2]/(n-2))\n",
    "        ddTz[:,n] = n * (2*dTz[:,n-1] + ddTz[:,n-2]/(n-2))\n",
    "    return [Tz, dTz, ddTz]\n",
    "\n",
    "class exact_tanh:\n",
    "    def __init__(self, k=1, x0=0):\n",
    "        self.k = k\n",
    "        self.x0 = x0\n",
    "    def u(self, x):\n",
    "        return numpy.tanh(self.k*(x - self.x0))\n",
    "    def du(self, x):\n",
    "        return self.k * numpy.cosh(self.k*(x - self.x0))**(-2)\n",
    "    def ddu(self, x):\n",
    "        return -2 * self.k**2 * numpy.tanh(self.k*(x - self.x0)) * numpy.cosh(self.k*(x - self.x0))**(-2)"
   ]
  },
  {
   "cell_type": "code",
   "execution_count": 112,
   "metadata": {},
   "outputs": [],
   "source": [
    "#SOLVER:\n",
    "def MSD_cheb(n, rhsfunc, IC_val, IC_dir, a, b):\n",
    "    \"\"\"Solve the mass-spring-damping system over the time [0,1] using n time steps with rhsfunc(x) forcing.\n",
    "    the initial conditions are given by the values IC_val (value of initial condition) \n",
    "    and IC_dir (derivative of initial condition).  parameters a and b are system parameters\"\"\"\n",
    "    x = cosspace(0, 1, n+1)  # n+1 points is n \"elements\"\n",
    "    T = chebeval(x)\n",
    "    K = T[1]\n",
    "    T1 = T[0]\n",
    "    \n",
    "    #build up each of the submatrices\n",
    "    A1 = b*T1\n",
    "    A1[0] = T1[0]\n",
    "    \n",
    "    A2 = K + a* T1\n",
    "    A2[0] = 0\n",
    "    \n",
    "    A3 = K\n",
    "    A3[0] = 0\n",
    "    \n",
    "    A4 = -T1\n",
    "    A4[0] = T1[0]\n",
    "    \n",
    "    #append together each of the submatrices into the operator A\n",
    "    A = numpy.concatenate((A1,A2),axis=1)\n",
    "    A = numpy.concatenate((A, numpy.concatenate((A3,A4),axis=1)), axis=0)\n",
    "    #build rhs vector\n",
    "    rhs = rhsfunc(x)\n",
    "    rhs[0] = IC_val\n",
    "    \n",
    "    rhs  = numpy.append(rhs,IC_dir)    \n",
    "    rhs = numpy.concatenate((rhs,0*x[1:]))\n",
    "    #build a factor matrix to get the operator into the chebyshev basis \n",
    "    B = numpy.concatenate((T1,0*T1),axis = 1)\n",
    "    B = numpy.concatenate((B, numpy.concatenate((0*T1, T1), axis = 1)), axis = 0)\n",
    "    return x, A.dot(numpy.linalg.inv(B)), rhs"
   ]
  },
  {
   "cell_type": "markdown",
   "metadata": {},
   "source": [
    "Let's test the solver! Here we use a $\\tanh(t)$ exact solution and set the boundary conditions to $ u(0) = \\tanh(0)$ and $u'(0) = \\tanh'(0)$:"
   ]
  },
  {
   "cell_type": "code",
   "execution_count": 124,
   "metadata": {},
   "outputs": [
    {
     "data": {
      "text/plain": [
       "<matplotlib.legend.Legend at 0x112cdcf98>"
      ]
     },
     "execution_count": 124,
     "metadata": {},
     "output_type": "execute_result"
    },
    {
     "data": {
      "image/png": "[encoded data removed]",
      "text/plain": [
       "<matplotlib.figure.Figure at 0x112b0b748>"
      ]
     },
     "metadata": {},
     "output_type": "display_data"
    }
   ],
   "source": [
    "sol = exact_tanh(2, .3)\n",
    "t, A, f = MSD_cheb(10, lambda t: sol.ddu(t) + a*sol.du(t) + b*sol.u(t), sol.u(0), sol.du(0), a, b)\n",
    "u = numpy.linalg.solve(A,f)\n",
    "u = u[0:len(t)]\n",
    "pyplot.figure()\n",
    "pyplot.plot(t,sol.u(t), label='exact')\n",
    "pyplot.plot(t,u, 'o', label='approx')\n",
    "pyplot.legend(loc='upper left')"
   ]
  },
  {
   "cell_type": "code",
   "execution_count": 123,
   "metadata": {},
   "outputs": [
    {
     "data": {
      "image/png": "[encoded data removed]",
      "text/plain": [
       "<matplotlib.figure.Figure at 0x112c4aa58>"
      ]
     },
     "metadata": {},
     "output_type": "display_data"
    }
   ],
   "source": [
    "def mms_error(n, discretize, a, b, sol):\n",
    "    t, A, f = discretize(n, lambda t: sol.ddu(t) + a*sol.du(t) + b*sol.u(t), sol.u(0),sol.du(0), a, b)\n",
    "    u = numpy.linalg.solve(A, f)\n",
    "    u = u[0:len(t)]\n",
    "    return numpy.linalg.norm(u - sol.u(t), numpy.inf)\n",
    "\n",
    "ex = exact_tanh(2,0.3)\n",
    "a = 1\n",
    "b = 1\n",
    "ns = numpy.arange(6,60,2)\n",
    "errors = [mms_error(n, MSD_cheb,a,b, ex) for n in ns]\n",
    "pyplot.figure()\n",
    "pyplot.semilogy(ns, errors, 'o', label='numerical')\n",
    "for p in range(1,5):\n",
    "    pyplot.semilogy(ns, 1/ns**(p), label='$n^{-%d}$'%p)\n",
    "pyplot.xlabel('n')\n",
    "pyplot.ylabel('error')\n",
    "    \n",
    "pyplot.legend(loc='lower right');\n"
   ]
  },
  {
   "cell_type": "code",
   "execution_count": null,
   "metadata": {
    "collapsed": true
   },
   "outputs": [],
   "source": []
  }
 ],
 "metadata": {
  "kernelspec": {
   "display_name": "Python 3",
   "language": "python",
   "name": "python3"
  },
  "language_info": {
   "codemirror_mode": {
    "name": "ipython",
    "version": 3
   },
   "file_extension": ".py",
   "mimetype": "text/x-python",
   "name": "python",
   "nbconvert_exporter": "python",
   "pygments_lexer": "ipython3",
   "version": "3.6.1"
  }
 },
 "nbformat": 4,
 "nbformat_minor": 2
}
