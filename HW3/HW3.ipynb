{
 "cells": [
  {
   "cell_type": "markdown",
   "metadata": {},
   "source": [
    "# Corey Nelson\n",
    "## Homework 3: Due 3-Nov-2017\n",
    "\n",
    "Write a solver for the regularized $p$-Laplacian,\n",
    "$$ -\\nabla\\cdot\\big( \\kappa(\\nabla u) \\nabla u \\big) = 0 $$\n",
    "where\n",
    "$$ \\kappa(\\nabla u) = \\big(\\frac 1 2 \\epsilon^2 + \\frac 1 2 \\nabla u \\cdot \\nabla u \\big)^{\\frac{p-2}{2}}, $$\n",
    "$ \\epsilon > 0$, and $1 < p < \\infty$.  The case $p=2$ is the conventional Laplacian. This problem gets more strongly nonlinear when $p$ is far from 2 and when $\\epsilon$ approaches zero. The $p \\to 1$ limit is related to plasticity and has applications in non-Newtonion flows and structural mechanics.\n",
    "\n",
    "1. Implement a \"Picard\" solver, which is like a Newton solver except that the Jacobian is replaced by the linear system\n",
    "$$ J_{\\text{Picard}}(u) \\delta u \\sim -\\nabla\\cdot\\big( \\kappa(\\nabla u) \\nabla \\delta u \\big) . $$\n",
    "This is much easier to implement than the full Newton linearization.  How fast does this method converge for values of $p < 2$ and $p > 2$?\n",
    "\n",
    "* Use the linearization above as a preconditioner to a Newton-Krylov method.  That is, use [`scipy.sparse.linalg.LinearOperator`](https://docs.scipy.org/doc/scipy-0.19.1/reference/generated/scipy.sparse.linalg.LinearOperator.html) to apply the Jacobian to a vector\n",
    "$$ \\tilde J(u) v = \\frac{F(u + h v) - F(u)}{h} . $$\n",
    "Then for each linear solve, use [`scipy.sparse.linalg.gmres`](https://docs.scipy.org/doc/scipy-0.19.1/reference/generated/scipy.sparse.linalg.gmres.html) and pass as a preconditioner, a direct solve with the Picard linearization above. (You might find [`scipy.sparse.linalg.factorized`](https://docs.scipy.org/doc/scipy-0.19.1/reference/generated/scipy.sparse.linalg.factorized.html#scipy.sparse.linalg.factorized) to be useful. Compare algebraic convergence to that of the Picard method.\n",
    "\n",
    "* Can you directly implement a Newton linearization?  Either do it or explain what is involved.  How will its nonlinear convergence compare to that of the Newton-Krylov method?"
   ]
  },
  {
   "cell_type": "markdown",
   "metadata": {},
   "source": [
    "### 1. Picard Solver for p-Laplacian\n",
    "Take the solver from class and add capability to change $p$ and $\\epsilon$."
   ]
  },
  {
   "cell_type": "code",
   "execution_count": 1,
   "metadata": {},
   "outputs": [
    {
     "data": {
      "text/plain": [
       "74"
      ]
     },
     "execution_count": 1,
     "metadata": {},
     "output_type": "execute_result"
    },
    {
     "data": {
      "image/png": "[encoded data removed]",
      "text/plain": [
       "<matplotlib.figure.Figure at 0x110ee5710>"
      ]
     },
     "metadata": {},
     "output_type": "display_data"
    }
   ],
   "source": [
    "%matplotlib inline\n",
    "import numpy\n",
    "import scipy.sparse as sp\n",
    "import scipy.sparse.linalg\n",
    "from matplotlib import pyplot\n",
    "pyplot.style.use('ggplot')\n",
    "%run ../fdtools.py\n",
    "\n",
    "def hgrid(h):\n",
    "    m = int(1/h + 1)  # Number of elements in terms of nominal grid spacing h\n",
    "    h = 1 / (m-1)     # Actual grid spacing\n",
    "    c = numpy.linspace(0, 1, m)\n",
    "    y, x = numpy.meshgrid(c, c)\n",
    "    return x, y\n",
    "\n",
    "def nonlinear2d_PLaplace(h, x, y, epsilon, p, u, forcing, g0, dirichlet=((),())):\n",
    "    m = x.shape[0]\n",
    "    u0 = g0(x, y).flatten()\n",
    "    F = -forcing(x, y).flatten()\n",
    "    ai = []\n",
    "    aj = []\n",
    "    av = []\n",
    "    def idx(i, j):\n",
    "        i = (m-1) - abs(m-1 - abs(i))\n",
    "        j = (m-1) - abs(m-1 - abs(j))\n",
    "        return i*m + j\n",
    "    mask = numpy.ones_like(x, dtype=bool)\n",
    "    mask[dirichlet[0],:] = False\n",
    "    mask[:,dirichlet[1]] = False\n",
    "    mask = mask.flatten()\n",
    "    u = u.flatten()\n",
    "    F[mask == False] = u[mask == False] - u0[mask == False]\n",
    "    u[mask == False] = u0[mask == False]\n",
    "    for i in range(m):\n",
    "        for j in range(m):\n",
    "            row = idx(i, j)\n",
    "            \n",
    "            #full stencil for computing the full gradients at staggered points for computing \n",
    "            stencil9 = numpy.array([idx(*pair) for pair in [(i-1,j-1),(i-1,j),(i-1,j+1),\n",
    "                                                            (i,j-1),  (i,j),  (i,j+1),\n",
    "                                                            (i+1,j-1),(i+1,j),(i+1,j+1)]])\n",
    "            #computes the x component of the gradients at each of the staggered grid points\n",
    "            gradStagX = numpy.array([[0,-2,0,0,2,0,0,0,0],\n",
    "                                     [-1,-1,0,0,0,0,1,1,0],\n",
    "                                     [0,0,0,0,-2,0,0,2,0],\n",
    "                                     [0,-1,-1,0,0,0,0,1,1]])/(2*h)\n",
    "            #computes the y component of the gradients at each of the staggered grid points\n",
    "            gradStagY = numpy.array([[-1,0,1,-1,0,1,0,0,0],\n",
    "                                     [0,0,0,-2,2,0,0,0,0],\n",
    "                                     [0,0,0,-1,0,1,-1,0,1],\n",
    "                                     [0,0,0,0,-2,2,0,0,0]])/(2*h)\n",
    "            stencili = numpy.array([idx(*pair) for pair in [(i-1, j), (i, j-1), (i, j), (i, j+1), (i+1, j)]])\n",
    "            \n",
    "            # Stencil to evaluate gradient at four staggered points\n",
    "            grad = numpy.array([[-1, 0, 1, 0, 0],\n",
    "                                [0, -1, 1, 0, 0],\n",
    "                                [0, 0, -1, 1, 0],\n",
    "                                [0, 0, -1, 0, 1]]) / h\n",
    "            # Stencil to average at four staggered points\n",
    "            avg  = numpy.array([[1, 0, 1, 0, 0],\n",
    "                                [0, 1, 1, 0, 0],\n",
    "                                [0, 0, 1, 1, 0],\n",
    "                                [0, 0, 1, 0, 1]]) / 2\n",
    "            # Stencil to compute divergence at cell centers from fluxes at four staggered points\n",
    "            ustag9 = u[stencil9]\n",
    "            ugradx = gradStagX @ ustag9\n",
    "            ugrady = gradStagY @ ustag9\n",
    "            gradgrad = ugradx * ugradx + ugrady * ugrady\n",
    "            div = numpy.array([-1, -1, 1, 1]) / h\n",
    "            ustencil = u[stencili]\n",
    "            ustag = avg @ ustencil\n",
    "            ugrad =  grad @ ustencil\n",
    "            kappa = (0.5*epsilon**2 + 0.5 * gradgrad)**( (p-2)/2 ) #new kappa for P-Laplacian\n",
    "            \n",
    "            if mask[row] == 0: # Dirichlet boundary\n",
    "                ai.append(row)\n",
    "                aj.append(row)\n",
    "                av.append(1)\n",
    "            else:\n",
    "                F[row] -= div @ (kappa[:,None] * grad @ ustencil)\n",
    "                Jstencil = -div @ (kappa[:,None] * grad) #Picard iteration\n",
    "                    \n",
    "                smask = mask[stencili]\n",
    "                ai += [row]*sum(smask)\n",
    "                aj += stencili[smask].tolist()\n",
    "                av += Jstencil[smask].tolist()\n",
    "    J = sp.csc_matrix((av, (ai, aj)), shape=(m*m,m*m))\n",
    "    return F, J\n",
    "\n",
    "def solve_PLaplace(h, g0, epsilon, p, dirichlet, atol=1e-8, verbose=False):\n",
    "    x, y = hgrid(h)\n",
    "    u = 0*x\n",
    "    for i in range(75):\n",
    "        F, J = nonlinear2d_PLaplace(h, x, y, epsilon, p, u, lambda x,y: 0*x+1,\n",
    "                               lambda x,y: 0*x, dirichlet=((0,-1),(0,-1)))\n",
    "        anorm = numpy.linalg.norm(F, numpy.inf)\n",
    "        if verbose:\n",
    "            print('{:2d}: anorm {:8e}'.format(i,anorm))\n",
    "        if anorm < atol:\n",
    "            break\n",
    "        deltau = sp.linalg.spsolve(J, -F)\n",
    "        u += deltau.reshape(x.shape)\n",
    "    return x, y, u, i\n",
    "\n",
    "p = 3\n",
    "epsilon = .1\n",
    "x, y, u, i = solve_PLaplace(.1, lambda x,y: 0*x, epsilon, p, dirichlet=((0,-1),(0,-1)))\n",
    "pyplot.contourf(x, y, u)\n",
    "pyplot.gca().set_aspect('equal') #make the figure aspect ratio right\n",
    "pyplot.colorbar();\n",
    "i"
   ]
  },
  {
   "cell_type": "markdown",
   "metadata": {},
   "source": [
    "Looks like the Picard solver is working! Next, we will run it over a range of $p$'s to determine how fast the Picard iterations will converge holding $\\epsilon = 0.1$."
   ]
  },
  {
   "cell_type": "code",
   "execution_count": 158,
   "metadata": {},
   "outputs": [
    {
     "data": {
      "image/png": "[encoded data removed]",
      "text/plain": [
       "<matplotlib.figure.Figure at 0x1131aec88>"
      ]
     },
     "metadata": {},
     "output_type": "display_data"
    }
   ],
   "source": [
    "epsilon = 0.1\n",
    "ps = numpy.linspace(0.5,3.5,15)\n",
    "iters = []\n",
    "for p in ps:\n",
    "    _, _, _, i = solve_PLaplace(.1, lambda x,y: 0*x, epsilon, p, dirichlet=((0,-1),(0,-1)))\n",
    "    iters.append(i)\n",
    "\n",
    "pyplot.plot(ps,iters, 'o')\n",
    "pyplot.xlabel(\"$p$\")\n",
    "pyplot.ylabel(\"Picard iterations for convergence\");\n"
   ]
  },
  {
   "cell_type": "markdown",
   "metadata": {},
   "source": [
    "After roughly $p>2.6$, the number of Picard iterations required for the solution to converge to tolerance was greater than the maximum number of allowed iterations (50)! So the number was increased to 75, and the solutions still would not converge in as many steps! For $p > 2$, the number of Picard iterations required for convergence blew up extremely fast showing that the linear approximation of the Jacobian is extremely inadequate for such a nonlinear problem."
   ]
  },
  {
   "cell_type": "markdown",
   "metadata": {},
   "source": [
    "### 2. Newton-Krylov Solver for p-Laplacian with Picard iteration preconditioner \n",
    "We will start with the newtonkrylov solver from the class notes, modifying the input parameters to just take in a system function like the nonlinear2D_PLaplace() function above. Entering the Newton iteration loop, we compute a preconditioner operator Jpreu which is a function that takes in a vector b and solves Jx = b. We use the Picard linearization of the Jacobian returned by the function above as the preconditioner. This is then passed into gmres which uses the Krylov approximation of the Jacobian to solve for du, the delta to be subtracted from our guess for u.\n",
    "\n",
    "callPrinter() is a function which can be passed into gmres to have it print each krylov iteration norm. This allows for more verbose output."
   ]
  },
  {
   "cell_type": "code",
   "execution_count": 60,
   "metadata": {
    "scrolled": true
   },
   "outputs": [
    {
     "name": "stdout",
     "output_type": "stream",
     "text": [
      "2.33806892714e-15\n",
      "Newton 0 anorm 5.09e+04 rnorm 5.65e+03\n",
      "4.86713851269e-08\n",
      "1.62323607912e-08\n",
      "4.66867482402e-09\n",
      "Newton 1 anorm 1.27e+04 rnorm 1.41e+03\n",
      "3.89555893176e-07\n",
      "1.3087321129e-07\n",
      "3.73823734997e-08\n",
      "1.09137226037e-08\n",
      "5.20365044371e-09\n",
      "Newton 2 anorm 3.18e+03 rnorm 3.53e+02\n",
      "3.08266467321e-06\n",
      "1.02404239672e-06\n",
      "2.9421228322e-07\n",
      "8.45768790219e-08\n",
      "4.18302229894e-08\n",
      "9.94568844268e-09\n",
      "Newton 3 anorm 7.93e+02 rnorm 8.81e+01\n",
      "2.37621672899e-05\n",
      "7.5869430635e-06\n",
      "2.24747116845e-06\n",
      "6.23589091573e-07\n",
      "3.28445787539e-07\n",
      "8.01173347501e-08\n",
      "1.94306792908e-08\n",
      "3.78258656248e-09\n",
      "Newton 4 anorm 1.97e+02 rnorm 2.19e+01\n",
      "0.000171296303403\n",
      "5.04128847534e-05\n",
      "1.48624793507e-05\n",
      "4.40019953095e-06\n",
      "2.33618725704e-06\n",
      "5.24890896185e-07\n",
      "1.30523987116e-07\n",
      "2.77289709743e-08\n",
      "5.26101459391e-09\n",
      "Newton 5 anorm 4.79e+01 rnorm 5.32e+00\n",
      "0.00103720710913\n",
      "0.000358993099985\n",
      "8.41211918682e-05\n",
      "3.54434402216e-05\n",
      "1.07447729966e-05\n",
      "2.86695938001e-06\n",
      "7.58218436547e-07\n",
      "1.55243323857e-07\n",
      "3.02230062833e-08\n",
      "6.5936433438e-09\n",
      "Newton 6 anorm 1.08e+01 rnorm 1.20e+00\n",
      "0.00436226699598\n",
      "0.00168949334575\n",
      "0.000492526656367\n",
      "0.000179935052379\n",
      "6.11140176049e-05\n",
      "1.62621771578e-05\n",
      "3.63996481268e-06\n",
      "7.36984680223e-07\n",
      "1.57227133343e-07\n",
      "3.4501753519e-08\n",
      "5.54209926218e-09\n",
      "Newton 7 anorm 1.85e+00 rnorm 2.05e-01\n",
      "0.00719786802592\n",
      "0.00422568126686\n",
      "0.000855153571363\n",
      "0.00024439496299\n",
      "8.32220338259e-05\n",
      "2.03462052529e-05\n",
      "5.02628056132e-06\n",
      "1.28674952612e-06\n",
      "2.64467952562e-07\n",
      "5.7975632077e-08\n",
      "1.22650325648e-08\n",
      "2.47983603416e-09\n",
      "Newton 8 anorm 1.14e-01 rnorm 1.26e-02\n",
      "0.0101633356757\n",
      "0.00461985106025\n",
      "0.00095586696961\n",
      "0.000279843002989\n",
      "8.48613439105e-05\n",
      "1.99395688056e-05\n",
      "5.20806754361e-06\n",
      "1.23663436e-06\n",
      "2.81556428063e-07\n",
      "6.17340551562e-08\n",
      "1.34682657561e-08\n",
      "2.67882172397e-09\n",
      "Newton 9 anorm 5.43e-04 rnorm 6.03e-05\n",
      "0.00952866382723\n",
      "0.00534250292661\n",
      "0.00110280179186\n",
      "0.000346298843348\n",
      "0.000103663602649\n",
      "2.52993425478e-05\n",
      "6.84193366105e-06\n",
      "1.49913619147e-06\n",
      "3.63670409133e-07\n",
      "6.91192033863e-08\n",
      "1.53576687174e-08\n",
      "2.69840899173e-09\n",
      "Newton 10 anorm 3.51e-08 rnorm 3.90e-09\n"
     ]
    },
    {
     "data": {
      "text/plain": [
       "10"
      ]
     },
     "execution_count": 60,
     "metadata": {},
     "output_type": "execute_result"
    },
    {
     "data": {
      "image/png": "[encoded data removed]",
      "text/plain": [
       "<matplotlib.figure.Figure at 0x1115dd860>"
      ]
     },
     "metadata": {},
     "output_type": "display_data"
    }
   ],
   "source": [
    "import scipy.sparse.linalg as splinalg\n",
    "\n",
    "### add Jpre preconditioner matrix to act as a preconditioner for the gmres solver\n",
    "def fsolve_newtonkrylov_PLaplace(sys, u0, eps=1e-8, rtol=1e-8, maxit=50, verbose=False):\n",
    "    u = u0.copy().flatten()\n",
    "    F,J = sys(u)\n",
    "\n",
    "    norm0 = numpy.linalg.norm(F)\n",
    "    def callPrinter(r,vb = False):\n",
    "            if vb:\n",
    "                print(numpy.linalg.norm(r))\n",
    "                \n",
    "    for i in range(maxit):\n",
    "        Jprepre = splinalg.factorized(J)\n",
    "        Jpreu = splinalg.LinearOperator((len(F),len(u)), matvec=Jprepre)\n",
    "        \n",
    "        def Ju_fd(v):\n",
    "            Fuv, _ = sys(u + eps*v)\n",
    "            return (Fuv - F) / eps\n",
    "        Ju = splinalg.LinearOperator((len(F),len(u)), matvec=Ju_fd)\n",
    "        \n",
    "            \n",
    "        du, info = splinalg.gmres(Ju, F, tol=1e-08, M = Jpreu, callback = lambda r:callPrinter(r,verbose))\n",
    "        \n",
    "        if info != 0:\n",
    "            raise RuntimeError('GMRES failed to converge: {:d}'.format(info))\n",
    "        u -= du\n",
    "        F, J = sys(u)\n",
    "        norm = numpy.linalg.norm(F)\n",
    "        if verbose:\n",
    "            print('Newton {:d} anorm {:6.2e} rnorm {:6.2e}'.format(i, norm, norm/norm0))\n",
    "        if norm < rtol * norm0:\n",
    "            break\n",
    "    return u, i\n",
    "\n",
    "\n",
    "h = 0.1\n",
    "x, y = hgrid(h)\n",
    "\n",
    "p = 3\n",
    "epsilon = .01\n",
    "u0 = 0*x\n",
    "\n",
    "u,i = fsolve_newtonkrylov_PLaplace(lambda u: nonlinear2d_PLaplace(h, x, y, epsilon, p, u, lambda x,y: 0*x+1,\n",
    "                                                                lambda x,y: 0*x, dirichlet=((0,-1),(0,-1))) , \n",
    "                                   u0, verbose = True)\n",
    "u = u.reshape(x.shape)\n",
    "pyplot.contourf(x, y, u)\n",
    "pyplot.gca().set_aspect('equal') #make the figure aspect ratio right\n",
    "pyplot.colorbar();\n",
    "i\n",
    "\n"
   ]
  },
  {
   "cell_type": "markdown",
   "metadata": {},
   "source": [
    "Next, we can look at the performance of the solver. Here, we make the same plot for number of Newton steps to converge at a solution. This mode of comparison is not great, as the Picard iteration solver above required a matrix vector solve at each Newton step, where that is not required here (and is replaced with the iterative Krylov method). "
   ]
  },
  {
   "cell_type": "code",
   "execution_count": 56,
   "metadata": {},
   "outputs": [
    {
     "data": {
      "image/png": "[encoded data removed]",
      "text/plain": [
       "<matplotlib.figure.Figure at 0x1117c05f8>"
      ]
     },
     "metadata": {},
     "output_type": "display_data"
    }
   ],
   "source": [
    "epsilon = 0.1\n",
    "ps = numpy.linspace(0.5,3.5,15)\n",
    "iters = []\n",
    "for p in ps:\n",
    "    u, i = fsolve_newtonkrylov_PLaplace(lambda u: nonlinear2d_PLaplace(h, x, y, epsilon, p, u, lambda x,y: 0*x+1,\n",
    "                                                                lambda x,y: 0*x, dirichlet=((0,-1),(0,-1))) , \n",
    "                                   u0, verbose = False)\n",
    "    iters.append(i)\n",
    "\n",
    "pyplot.plot(ps,iters, 'o')\n",
    "pyplot.xlabel(\"$p$\")\n",
    "pyplot.ylabel(\"Newton-Krylov iterations for convergence\");"
   ]
  },
  {
   "cell_type": "markdown",
   "metadata": {},
   "source": [
    "### 3. Full Newton Solve for P-Laplacian\n",
    "Can a Newton's solver be truly implemented for this problem?"
   ]
  },
  {
   "cell_type": "markdown",
   "metadata": {},
   "source": [
    "Yes! The way derivatives are taken in this method is with respect to the cell center variables u. As such, derivatives of derivatives are essentially reapplication of the discrete derivative operators at each cell center. We need higher derivatives in order to get at the term which we dropped in the Picard iteration, namely $\\nabla\\cdot\\kappa( \\nabla u)$. As this would be a fully Newton's method, we would expect 2nd order convergence of this method."
   ]
  },
  {
   "cell_type": "code",
   "execution_count": null,
   "metadata": {
    "collapsed": true
   },
   "outputs": [],
   "source": []
  }
 ],
 "metadata": {
  "kernelspec": {
   "display_name": "Python 3",
   "language": "python",
   "name": "python3"
  },
  "language_info": {
   "codemirror_mode": {
    "name": "ipython",
    "version": 3
   },
   "file_extension": ".py",
   "mimetype": "text/x-python",
   "name": "python",
   "nbconvert_exporter": "python",
   "pygments_lexer": "ipython3",
   "version": "3.5.1"
  }
 },
 "nbformat": 4,
 "nbformat_minor": 2
}
